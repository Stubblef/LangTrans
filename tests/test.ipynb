{
 "cells": [
  {
   "cell_type": "code",
   "execution_count": null,
   "metadata": {},
   "outputs": [],
   "source": [
    "from openai import OpenAI\n",
    "\n",
    "# Modify OpenAI's API key and API base to use vLLM's API server.\n",
    "openai_api_key = \"sk-acegikmoqsuwy123456\"\n",
    "openai_api_base =  \"http://60.190.249.69:8000/v1\"  ## \"https://api.deepseek.com\"  #\n",
    "client = OpenAI(\n",
    "    api_key=openai_api_key,\n",
    "    base_url=openai_api_base,\n",
    ")\n",
    "\n",
    "completion = client.chat.completions.create(model=\"Qwen2.5-7B-Instruct\",  #  \"deepseek-chat\", # \n",
    "                                      messages=[\n",
    "                                        {\"role\": \"user\", \"content\": \"你好\"},\n",
    "                                    ],\n",
    "                                    #   tools=registry._functions,                              \n",
    "                                    stream=False,max_tokens=2048)"
   ]
  },
  {
   "cell_type": "code",
   "execution_count": null,
   "metadata": {},
   "outputs": [],
   "source": [
    "from base import BaseTool, FunctionRegistry"
   ]
  },
  {
   "cell_type": "code",
   "execution_count": null,
   "metadata": {},
   "outputs": [],
   "source": [
    "registry = FunctionRegistry()\n",
    "registry.register_function(test_tool)\n",
    "\n",
    "from openai import OpenAI\n",
    "\n",
    "# Modify OpenAI's API key and API base to use vLLM's API server.\n",
    "openai_api_key = \"sk-acegikmoqsuwy123456\"\n",
    "openai_api_base =  \"http://60.190.249.69:8000/v1\"  ## \"https://api.deepseek.com\"  #\n",
    "client = OpenAI(\n",
    "    api_key=openai_api_key,\n",
    "    base_url=openai_api_base,\n",
    ")\n",
    "\n",
    "completion = client.chat.completions.create(model=\"Qwen2.5-7B-Instruct\",  #  \"deepseek-chat\", # \n",
    "                                      messages=[\n",
    "                                        {\"role\": \"user\", \"content\": \"测试用例\"},\n",
    "                                    ],\n",
    "                                      tools=registry._functions,                              \n",
    "                                    stream=False,max_tokens=2048)"
   ]
  }
 ],
 "metadata": {
  "language_info": {
   "name": "python"
  }
 },
 "nbformat": 4,
 "nbformat_minor": 2
}
